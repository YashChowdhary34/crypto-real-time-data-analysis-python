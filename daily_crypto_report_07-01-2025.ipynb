{
 "cells": [
  {
   "cell_type": "code",
   "execution_count": null,
   "id": "dbff18e0",
   "metadata": {},
   "outputs": [],
   "source": [
    "\n",
    "        import pandas as pd\n",
    "        import matplotlib.pyplot as plt\n",
    "\n",
    "        # Load data\n",
    "        df = pd.read_csv(\"crypto_data_07-01-2025_18-11-46.csv\")\n",
    "\n",
    "        # Basic descriptive statistics\n",
    "        print(\"Descriptive Statistics:\")\n",
    "        print(df.describe())\n",
    "\n",
    "        # Plot price trends\n",
    "        plt.figure(figsize=(10, 6))\n",
    "        df['current_price'].plot(title=\"Daily Price Trend\")\n",
    "        plt.xlabel(\"Time\")\n",
    "        plt.ylabel(\"Price\")\n",
    "        plt.show()\n",
    "        "
   ]
  },
  {
   "cell_type": "code",
   "execution_count": null,
   "id": "bac9139b",
   "metadata": {},
   "outputs": [],
   "source": [
    "\n",
    "        from prophet import Prophet\n",
    "        import pandas as pd\n",
    "\n",
    "        # Prepare data for Prophet\n",
    "        df['ds'] = pd.to_datetime(df['last_updated'])\n",
    "        df['y'] = df['current_price']\n",
    "\n",
    "        # Removing timezone from ds column before fitting\n",
    "        df['ds'] = df['ds'].dt.tz_localize(None)\n",
    "        \n",
    "        # Train Prophet model\n",
    "        model = Prophet()\n",
    "        model.fit(df)\n",
    "\n",
    "        # Forecast future values\n",
    "        future = model.make_future_dataframe(periods=7)  # Predict the next 7 days\n",
    "        forecast = model.predict(future)\n",
    "\n",
    "        # Plot forecast\n",
    "        fig = model.plot(forecast)\n",
    "        "
   ]
  }
 ],
 "metadata": {},
 "nbformat": 4,
 "nbformat_minor": 5
}
